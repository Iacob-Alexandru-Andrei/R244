{
  "cells": [
    {
      "cell_type": "markdown",
      "metadata": {
        "id": "rhgpM92PMCd-"
      },
      "source": [
        "# Flower Quickstart (Simulation with TensorFlow/Keras)\n",
        "\n",
        "Welcome to Flower, a friendly federated learning framework!\n",
        "\n",
        "In this notebook, we'll simulate a federated learning system with 100 clients. The clients will use TensorFlow/Keras to define model training and evaluation. Let's start by installing Flower Nightly, published as `flwr-nightly` on PyPI:"
      ]
    },
    {
      "cell_type": "code",
      "execution_count": null,
      "metadata": {
        "colab": {
          "base_uri": "https://localhost:8080/"
        },
        "id": "BXG21C3dLj6i",
        "outputId": "f60586a0-3fc5-4801-919d-01977224a39b"
      },
      "outputs": [],
      "source": [
        "# !pip install git+https://github.com/adap/flower.git@release/0.17#egg=flwr[\"simulation\"]  # For a specific branch (release/0.17) w/ extra (\"simulation\")\n",
        "# # !pip install -U flwr[\"simulation\"]  # Once 0.17.1 is released"
      ]
    },
    {
      "cell_type": "markdown",
      "metadata": {
        "id": "tQk9ZzCBMf9r"
      },
      "source": [
        "Next, we import the required dependencies. The most important imports are Flower (`flwr`) and TensorFlow:"
      ]
    },
    {
      "cell_type": "code",
      "execution_count": null,
      "metadata": {
        "id": "oKvjox6uMkhj"
      },
      "outputs": [],
      "source": [
        "import os\n",
        "import math\n",
        "\n",
        "# Make TensorFlow logs less verbose\n",
        "os.environ[\"TF_CPP_MIN_LOG_LEVEL\"] = \"3\"\n",
        "\n",
        "import flwr as fl\n",
        "from shared.shared import*\n",
        "\n",
        "os.environ['TF_CPP_MIN_LOG_LEVEL'] = '3'\n",
        "import tensorflow.python.util.deprecation as deprecation\n",
        "deprecation._PRINT_DEPRECATION_WARNINGS = False\n",
        "\n",
        "tf.logging.set_verbosity(tf.logging.ERROR)\n",
        "\n",
        "import tensorflow.keras as keras\n",
        "from tensorflow.keras.datasets import cifar10\n",
        "from tensorflow.keras.preprocessing.image import ImageDataGenerator\n",
        "from tensorflow.keras.models import Sequential\n",
        "from tensorflow.keras.layers import Dense, Dropout, Activation, Flatten\n",
        "from tensorflow.keras.layers import Conv2D, MaxPooling2D\n",
        "from tensorflow.keras import regularizers\n",
        "from tensorflow.keras.datasets import mnist\n",
        "from tensorflow.keras import backend as K\n",
        "from tensorflow.keras.optimizers import RMSprop\n",
        "from shared.shared import*\n",
        "\n",
        "import ax\n",
        "from ax.plot.contour import plot_contour\n",
        "from ax.plot.trace import optimization_trace_single_method\n",
        "from ax.service.managed_loop import optimize\n",
        "from ax.metrics.branin import branin\n",
        "from ax.utils.measurement.synthetic_functions import hartmann6\n",
        "from ax.utils.notebook.plotting import render, init_notebook_plotting\n",
        "\n",
        "init_notebook_plotting()"
      ]
    },
    {
      "cell_type": "markdown",
      "metadata": {
        "id": "30pJWfaTM_MC"
      },
      "source": [
        "With that out of the way, let's move on to the interesting bits. Federated learning systems consist of a server and multiple clients. In Flower, we create clients by implementing subclasses of `flwr.client.Client` or `flwr.client.NumPyClient`. We use `NumPyClient` in this tutorial because it is easier to implement and requires us to write less boilerplate.\n",
        "\n",
        "To implement the Flower client, we create a subclass of `flwr.client.NumPyClient` and implement the three methods `get_parameters`, `fit`, and `evaluate`:\n",
        "\n",
        "- `get_parameters`: Return the current local model parameters\n",
        "- `fit`: Receive model parameters from the server, train the model parameters on the local data, and return the (updated) model parameters to the server \n",
        "- `evaluate`: Received model parameters from the server, evaluate the model parameters on the local data, and return the evaluation result to the server\n",
        "\n",
        "We mentioned that our clients will use TensorFlow/Keras for the model training and evaluation. Keras models provide methods that make the implementation staightforward: we can update the local model with server-provides parameters through `model.set_weights`, we can train/evaluate the model through `fit/evaluate`, and we can get the updated model parameters through `model.get_weights`.\n",
        "\n",
        "Let's see a simple implementation:"
      ]
    },
    {
      "cell_type": "code",
      "execution_count": null,
      "metadata": {
        "id": "vE3mqBs0NHZi"
      },
      "outputs": [],
      "source": [
        "class FlowerClient(fl.client.NumPyClient):\n",
        "    def __init__(self, model, x_train, y_train, x_val, y_val) -> None:\n",
        "        self.model = model\n",
        "        self.x_train, self.y_train = x_train, y_train\n",
        "        self.x_val, self.y_val = x_val,y_val\n",
        "\n",
        "    def get_parameters(self):\n",
        "        return self.model.get_weights()\n",
        "\n",
        "    def fit(self, parameters, config):\n",
        "        self.model.set_weights(parameters)\n",
        "        epochs = int(config[\"epochs\"])\n",
        "        self.model.fit(self.x_train, self.y_train, epochs=epochs, verbose=0, shuffle=True)\n",
        "        return self.model.get_weights(), len(self.x_train), {}\n",
        "\n",
        "    def evaluate(self, parameters, config):\n",
        "        self.model.set_weights(parameters)\n",
        "        loss, acc = self.model.evaluate(self.x_val, self.y_val, verbose=0)\n",
        "        return loss, len(self.x_val), {\"accuracy\": acc}\n",
        "    \n",
        "    def get_properties(self, ins):\n",
        "        return {}"
      ]
    },
    {
      "cell_type": "markdown",
      "metadata": {},
      "source": [
        "Our class `FlowerClient` defines how local training/evaluation will be performed and allows Flower to call the local training/evaluation through `fit` and `evaluate`. Each instance of `FlowerClient` represents a *single client* in our federated learning system. Federated learning systems have multiple clients (otherwise there's not much to federate, is there?), so each client will be represented by its own instance of `FlowerClient`. If we have, for example, three clients in our workload, we'd have three instances of `FlowerClient`. Flower calls `FlowerClient.fit` on the respective instance when the server selects a particular client for training (and `FlowerClient.evaluate` for evaluation).\n",
        "\n",
        "In this notebook, we want to simulate a federated learning system with 100 clients on a single machine. This means that the server and all 100 clients will live on a single machine and share resources such as CPU, GPU, and memory. Having 100 clients would mean having 100 instances of `FlowerClient` im memory. Doing this on a single machine can quickly exhaust the available memory resources, even if only a subset of these clients participates in a single round of federated learning.\n",
        "\n",
        "In addition to the regular capabilities where server and clients run on multiple machines, Flower therefore provides special simulation capabilities that create `FlowerClient` instances only when they are actually necessary for training or evaluation. To enable the Flower framework to create clients when necessary, we need to implement a function called `client_fn` that creates a `FlowerClient` instance on demand. Flower calls `client_fn` whenever it needs an instance of one particular client to call `fit` or `evaluate` (those instances are usually discarded after use). Clients are identified by a client ID, or short `cid`. The `cid` can be used, for example, to load different local data partitions for each client:"
      ]
    },
    {
      "cell_type": "code",
      "execution_count": null,
      "metadata": {
        "id": "OtlBA2OFO0tf"
      },
      "outputs": [],
      "source": [
        "def get_client_fn_and_eval_fn(data_generator = load_partitioned_FEMINST_data):\n",
        "    X_trains, X_tests, Y_trains, Y_tests, X_eval_test, Y_eval_test = data_generator()\n",
        "    \n",
        "    def client_fn(cid: str) -> fl.client.Client:\n",
        "        nonlocal X_trains\n",
        "        nonlocal Y_trains\n",
        "        nonlocal X_tests\n",
        "        nonlocal Y_tests\n",
        "        s = int(cid) % 10 \n",
        "        model = get_epoch_opt_compiled_original_CBO_CNN(X_trains[s].shape[1:])\n",
        "        return FlowerClient(model, X_trains[s], Y_trains[s], X_tests[s], Y_tests[s])\n",
        "    \n",
        "    def eval_fn(weights: fl.common.Weights):\n",
        "        nonlocal X_eval_test\n",
        "        nonlocal Y_eval_test\n",
        "        model.set_weights(weights=weights)\n",
        "        loss, acc = model.evaluate(X_eval_test, Y_eval_test, verbose=0)\n",
        "        return loss, {\"accuracy\": acc}\n",
        "\n",
        "    return client_fn, eval_fn"
      ]
    },
    {
      "cell_type": "code",
      "execution_count": null,
      "metadata": {},
      "outputs": [],
      "source": [
        "X_trains, X_tests, Y_trains, Y_tests, X_eval_test, Y_eval_test = load_partitioned_FEMINST_data()\n",
        "client_fn, eval_fn  = get_client_fn_and_eval_fn()\n",
        "model = get_epoch_opt_compiled_original_CBO_CNN(X_trains[1].shape[1:])\n",
        "client_fn(\"1\").evaluate(model.get_weights(),{})"
      ]
    },
    {
      "cell_type": "code",
      "execution_count": null,
      "metadata": {},
      "outputs": [],
      "source": [
        "def generate_config(first_epoch, discount_factor):\n",
        "    def fit_config(round: int):\n",
        "        print(f\"Configuring round {round}...\")\n",
        "        return {\n",
        "            \"epochs\": str(int(first_epoch* (discount_factor**(round-1)))),\n",
        "        }\n",
        "    return fit_config \n"
      ]
    },
    {
      "cell_type": "markdown",
      "metadata": {
        "id": "6SVawWSgO48Q"
      },
      "source": [
        "We now have `FlowerClient` which defines client-side training and evaluation and `client_fn` which allows Flower to create `FlowerClient` instances whenever it needs to call `fit` or `evaluate` on one particular client. The last step is to start the actual simulation using `flwr.simulation.start_simulation`. \n",
        "\n",
        "The function `start_simulation` accepts a number of arguments, amongst them the `client_fn` used to create `FlowerClient` instances, the number of clients to simulate `num_clients`, the number of rounds `num_rounds`, and the strategy. The strategy encapsulates the federated learning approach/algorithm, for example, *Federated Averaging* (FedAvg).\n",
        "\n",
        "Flower comes with a number of built-in strategies, but we can also use our own strategy implementations to customize nearly all aspects of the federated learning approach. For this example, we use the built-in `FedAvg` implementation and customize it using a few basic parameters. The last step is the actual call to `start_simulation` which - you guessed it - actually starts the simulation."
      ]
    },
    {
      "cell_type": "code",
      "execution_count": null,
      "metadata": {
        "colab": {
          "base_uri": "https://localhost:8080/"
        },
        "id": "0Yxjysu5PM-A",
        "outputId": "cf5f1bab-0d94-4876-bd6a-cdb0652826ff"
      },
      "outputs": [],
      "source": [
        "cnt = 0 \n",
        "\n",
        "def optimise_epochs(inital_epoch_count, epoch_decay, rounds = 5, name = \"hist_total_epochs_opt\", NUM_CLIENTS = 10, data_generator=load_partitioned_FEMINST_data):\n",
        "    global cnt \n",
        "    cnt += 1 \n",
        "    config_fn = generate_config(inital_epoch_count, epoch_decay)\n",
        "    client_fn, eval_fn  = get_client_fn_and_eval_fn(data_generator)\n",
        "    print(client_fn)\n",
        "    # Create FedAvg strategy\n",
        "    strategy=fl.server.strategy.FedAvg(\n",
        "            fraction_fit=1.0,  # Sample 10% of available clients for training\n",
        "            fraction_eval=1.0,  # Sample 5% of available clients for evaluation\n",
        "            min_fit_clients=NUM_CLIENTS,  # Never sample less than 10 clients for training\n",
        "            min_eval_clients=NUM_CLIENTS,  # Never sample less than 5 clients for evaluation\n",
        "            min_available_clients=NUM_CLIENTS,  # Wait until at least 75 clients are available\n",
        "            eval_fn = eval_fn,\n",
        "            on_fit_config_fn = config_fn,\n",
        "            on_evaluate_config_fn = config_fn\n",
        "            \n",
        "    )\n",
        "\n",
        "    # Start simulation\n",
        "    history = fl.simulation.start_simulation(\n",
        "        client_fn=client_fn,\n",
        "        num_clients=NUM_CLIENTS,\n",
        "        num_rounds=rounds,\n",
        "        strategy=strategy\n",
        "    )\n",
        "    # filename = f\"/home/ubuntu/r244_alex/R244_Project/results/{name}_{cnt}\"\n",
        "    # with open(filename,\"w+b\") as f:\n",
        "    #     pickle.dump(history, f)\n",
        "    return history.metrics_centralized[\"accuracy\"][-1][1]\n",
        "    \n"
      ]
    },
    {
      "cell_type": "code",
      "execution_count": null,
      "metadata": {},
      "outputs": [],
      "source": [
        "#Run Uniform Epoch count BO experiment with iid data\n",
        "\n",
        "full_iid = get_iid_controlled_data_generator(iid_frac=0.5)\n",
        "\n",
        "\n",
        "total_epochs = 120\n",
        "best_parameters, values, experiment, model = optimize(\n",
        "    parameters=[\n",
        "        {\n",
        "            \"name\":\"num_rounds\",\n",
        "            \"type\": \"range\",\n",
        "            \"bounds\": [1, 40],\n",
        "            \"value_type\": \"int\",  # Optional, defaults to inference from type of \"bounds\".\n",
        "            \"log_scale\": False,  # Optional, defaults to False.\n",
        "        },\n",
        "    ],\n",
        "    experiment_name=\"acc\",\n",
        "    objective_name=\"acc\",\n",
        "    evaluation_function=lambda p:optimise_epochs(int(float(total_epochs)/p[\"num_rounds\"]), 1.0, p[\"num_rounds\"], data_generator=full_iid),\n",
        "    minimize=False,  # Optional, defaults to False.\n",
        "    # parameter_constraints=[\"x1 + x2 <= 20\"],  # Optional.\n",
        "    # outcome_constraints=[\"l2norm <= 1.25\"],  # Optional.\n",
        "    total_trials=15, # Optional.\n",
        ")"
      ]
    },
    {
      "cell_type": "code",
      "execution_count": null,
      "metadata": {},
      "outputs": [],
      "source": [
        "#Run Uniform Epoch count BO experiment\n",
        "\n",
        "total_epochs = 120\n",
        "best_parameters, values, experiment, model = optimize(\n",
        "    parameters=[\n",
        "        {\n",
        "            \"name\":\"num_rounds\",\n",
        "            \"type\": \"range\",\n",
        "            \"bounds\": [1, 40],\n",
        "            \"value_type\": \"int\",  # Optional, defaults to inference from type of \"bounds\".\n",
        "            \"log_scale\": False,  # Optional, defaults to False.\n",
        "        },\n",
        "    ],\n",
        "    experiment_name=\"acc\",\n",
        "    objective_name=\"acc\",\n",
        "    evaluation_function=lambda p:optimise_epochs(int(float(total_epochs)/p[\"num_rounds\"]), 1.0, p[\"num_rounds\"]),\n",
        "    minimize=False,  # Optional, defaults to False.\n",
        "    # parameter_constraints=[\"x1 + x2 <= 20\"],  # Optional.\n",
        "    # outcome_constraints=[\"l2norm <= 1.25\"],  # Optional.\n",
        "    total_trials=15, # Optional.\n",
        ")"
      ]
    },
    {
      "cell_type": "code",
      "execution_count": null,
      "metadata": {},
      "outputs": [],
      "source": [
        "[trial.objective_mean for trial in experiment.trials.values()]"
      ]
    },
    {
      "cell_type": "code",
      "execution_count": null,
      "metadata": {},
      "outputs": [],
      "source": [
        "best_objectives = np.array([[trial.objective_mean for trial in experiment.trials.values() ][1:]   ])\n",
        "\n",
        "plot = optimization_trace_single_method(\n",
        "    y =best_objectives,\n",
        "    title=\"\",\n",
        "    ylabel=\"Accuracy\",\n",
        "    plot_trial_points = True\n",
        ")\n",
        "render(plot)"
      ]
    },
    {
      "cell_type": "code",
      "execution_count": null,
      "metadata": {},
      "outputs": [],
      "source": [
        "from ax.storage.json_store.load import load_experiment\n",
        "\n",
        "experiment2 = load_experiment(\"BO_epochs_uniform.json\")\n",
        "best_objectives = np.array([[trial.objective_mean for trial in experiment2.trials.values() ][1:]   ])\n",
        "\n",
        "plot = optimization_trace_single_method(\n",
        "    y =best_objectives,\n",
        "    title=\"\",\n",
        "    ylabel=\"Accuracy\",\n",
        "    plot_trial_points = True\n",
        ")\n",
        "render(plot)"
      ]
    },
    {
      "cell_type": "code",
      "execution_count": null,
      "metadata": {},
      "outputs": [],
      "source": [
        "from ax.plot.slice import plot_slice\n",
        "from copy import deepcopy\n",
        "from collections import defaultdict\n",
        "exp2 = deepcopy(experiment)\n",
        "seen = defaultdict(int)\n",
        "arm_names = []\n",
        "data = []\n",
        "ele = experiment.trials[0]\n",
        "\n",
        "for i in range(len(experiment.trials.values())):\n",
        "    if seen[experiment.trials[i].arm.parameters[\"num_rounds\"]] == 0:\n",
        "        seen[experiment.trials[i].arm.parameters[\"num_rounds\"]] = 1\n",
        "    \n",
        "    else:\n",
        "        exp2.trials.pop(i)\n",
        "\n",
        "print(exp2.trials)\n",
        "\n",
        "\n",
        "plot = plot_slice(model, param_name=\"num_rounds\", metric_name=\"acc\", generator_runs_dict = exp2.trials)\n",
        "render(plot)"
      ]
    },
    {
      "cell_type": "code",
      "execution_count": null,
      "metadata": {},
      "outputs": [],
      "source": [
        "data = plot[0]['data']\n",
        "lay = plot[0]['layout']\n",
        "\n",
        "import plotly.graph_objects as go\n",
        "fig = {\n",
        "    \"data\": data,\n",
        "    \"layout\": lay,\n",
        "}\n",
        "go.Figure(fig).write_image(\"Uniform_Epoch_Count_Opt.pdf\")"
      ]
    },
    {
      "cell_type": "code",
      "execution_count": null,
      "metadata": {},
      "outputs": [],
      "source": [
        "from ax.storage.json_store.save import save_experiment\n",
        "\n",
        "\n",
        "whole_experiment = best_parameters, values, experiment, model\n",
        "save_experiment(experiment, \"iid_0.5_BO_epochs_uniform.json\")\n"
      ]
    }
  ],
  "metadata": {
    "colab": {
      "collapsed_sections": [],
      "name": "flower.ipynb",
      "provenance": []
    },
    "interpreter": {
      "hash": "1c67b87cde3b5052ebeac6b38fcea53a0f483c4f2759537c54ed26c372560850"
    },
    "kernelspec": {
      "display_name": "Python 3.7.12 64-bit ('alex': conda)",
      "name": "python3"
    },
    "language_info": {
      "codemirror_mode": {
        "name": "ipython",
        "version": 3
      },
      "file_extension": ".py",
      "mimetype": "text/x-python",
      "name": "python",
      "nbconvert_exporter": "python",
      "pygments_lexer": "ipython3",
      "version": "3.7.12"
    }
  },
  "nbformat": 4,
  "nbformat_minor": 2
}
